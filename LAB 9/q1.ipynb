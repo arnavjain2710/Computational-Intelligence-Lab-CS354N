{
 "cells": [
  {
   "cell_type": "code",
   "execution_count": 20,
   "metadata": {},
   "outputs": [],
   "source": [
    "import numpy as np\n",
    "\n",
    "class HopfieldNN:\n",
    "    def __init__(self, data, activation, threshold = 0):\n",
    "        self.threshold = threshold\n",
    "        self.act = activation\n",
    "        self.weights = (data.T@data)\n",
    "        for i in range(len(self.weights)):\n",
    "            self.weights[i,i] = 0\n",
    "    \n",
    "    def __call__(self, pattern, update_order = [1,4,3,2]):\n",
    "        if not update_order:\n",
    "            update_order = [i for i in range(len(pattern))]\n",
    "        change = True\n",
    "        state = pattern\n",
    "        it = 0\n",
    "        while change:\n",
    "            it += 1\n",
    "            change = False\n",
    "            for i in update_order:\n",
    "                i -= 1\n",
    "                state[i] = self.weights[i]@state + pattern[i] - self.threshold\n",
    "                state[i] = self.act(state[i])\n",
    "                if state[i] - pattern[i]:\n",
    "                    change = True\n",
    "        print(f\"Done in {it} iterations\")\n",
    "        return state"
   ]
  },
  {
   "cell_type": "code",
   "execution_count": 21,
   "metadata": {},
   "outputs": [],
   "source": [
    "def sign(n):\n",
    "    if n > 0:\n",
    "        return 1\n",
    "    if n < 0:\n",
    "        return -1\n",
    "    return 0"
   ]
  },
  {
   "cell_type": "code",
   "execution_count": 22,
   "metadata": {},
   "outputs": [
    {
     "name": "stdout",
     "output_type": "stream",
     "text": [
      "2\n"
     ]
    }
   ],
   "source": [
    "data = np.array([\n",
    "    [1,1,1,1],\n",
    "    [1,1,-1,-1]\n",
    "])\n",
    "\n",
    "print(len(data))"
   ]
  },
  {
   "cell_type": "code",
   "execution_count": 23,
   "metadata": {},
   "outputs": [],
   "source": [
    "hnn = HopfieldNN(data, sign, 0)"
   ]
  },
  {
   "cell_type": "code",
   "execution_count": 24,
   "metadata": {},
   "outputs": [
    {
     "name": "stdout",
     "output_type": "stream",
     "text": [
      "Done in 1 iterations\n"
     ]
    },
    {
     "data": {
      "text/plain": [
       "[1, 1, 1, 1]"
      ]
     },
     "execution_count": 24,
     "metadata": {},
     "output_type": "execute_result"
    }
   ],
   "source": [
    "hnn([1,1,1,1])"
   ]
  },
  {
   "cell_type": "code",
   "execution_count": 25,
   "metadata": {},
   "outputs": [
    {
     "name": "stdout",
     "output_type": "stream",
     "text": [
      "Done in 1 iterations\n"
     ]
    },
    {
     "data": {
      "text/plain": [
       "[1, 1, -1, -1]"
      ]
     },
     "execution_count": 25,
     "metadata": {},
     "output_type": "execute_result"
    }
   ],
   "source": [
    "hnn([1,1,-1,-1])"
   ]
  },
  {
   "cell_type": "code",
   "execution_count": 26,
   "metadata": {},
   "outputs": [
    {
     "name": "stdout",
     "output_type": "stream",
     "text": [
      "Done in 1 iterations\n"
     ]
    },
    {
     "data": {
      "text/plain": [
       "[1, 1, 1, 1]"
      ]
     },
     "execution_count": 26,
     "metadata": {},
     "output_type": "execute_result"
    }
   ],
   "source": [
    "hnn([1,1,1,-1])"
   ]
  },
  {
   "cell_type": "code",
   "execution_count": null,
   "metadata": {},
   "outputs": [],
   "source": []
  }
 ],
 "metadata": {
  "kernelspec": {
   "display_name": "Python 3",
   "language": "python",
   "name": "python3"
  },
  "language_info": {
   "codemirror_mode": {
    "name": "ipython",
    "version": 3
   },
   "file_extension": ".py",
   "mimetype": "text/x-python",
   "name": "python",
   "nbconvert_exporter": "python",
   "pygments_lexer": "ipython3",
   "version": "3.12.3"
  }
 },
 "nbformat": 4,
 "nbformat_minor": 2
}
