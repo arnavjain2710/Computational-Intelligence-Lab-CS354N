{
  "cells": [
    {
      "cell_type": "code",
      "execution_count": null,
      "metadata": {
        "id": "FFIYRcF5_EQ3"
      },
      "outputs": [],
      "source": [
        "import random\n",
        "import time\n",
        "\n",
        "SIMILAR_MAP = {\n",
        "    'A': ['A', '4', 'Λ', '∆'],\n",
        "    'B': ['B', 'ß', 'β', '8'],\n",
        "    'C': ['C', '(', 'ʗ', 'ϲ'],\n",
        "    'D': ['D', 'Đ', 'ↁ'],\n",
        "    'E': ['E', '3', '€', 'ε'],\n",
        "    'F': ['F', 'Ƒ'],\n",
        "    'G': ['G', '6', 'ɢ'],\n",
        "    'H': ['H', 'ʰ', 'Ħ'],\n",
        "    'I': ['I', '1', 'ɪ', '!'],\n",
        "    'J': ['J', 'ʝ'],\n",
        "    'K': ['K', 'Ⱪ', 'ʞ'],\n",
        "    'L': ['L', '1', 'Ⱡ', 'Ł'],\n",
        "    'M': ['M', 'ʍ', 'ϻ'],\n",
        "    'N': ['N', 'ɴ', 'η'],\n",
        "    'O': ['O', '0', 'Ø', 'Φ'],\n",
        "    'P': ['P', 'Ƥ', 'ρ'],\n",
        "    'Q': ['Q', 'ϙ', 'φ'],\n",
        "    'R': ['R', 'ʀ', 'Я'],\n",
        "    'S': ['S', '5', '$', '§'],\n",
        "    'T': ['T', '7', 'ʇ'],\n",
        "    'U': ['U', 'µ', 'υ'],\n",
        "    'V': ['V', 'ʋ', '∨'],\n",
        "    'W': ['W', 'ɯ', 'Ш'],\n",
        "    'X': ['X', '×', '✕'],\n",
        "    'Y': ['Y', 'Ɏ', '¥'],\n",
        "    'Z': ['Z', '2', 'Ƶ'],\n",
        "}\n",
        "\n",
        "def get_variants(char):\n",
        "    if char.upper() in SIMILAR_MAP:\n",
        "        variants = SIMILAR_MAP[char.upper()]\n",
        "        if char.islower():\n",
        "            variants = [v.lower() for v in variants]\n",
        "        variants[0] = char\n",
        "        return variants\n",
        "    else:\n",
        "        return [char]\n",
        "\n",
        "def initialize_population(original_text, pop_size):\n",
        "    population = []\n",
        "    variant_sets = [get_variants(c) for c in original_text]\n",
        "\n",
        "    for _ in range(pop_size):\n",
        "        chromosome = []\n",
        "        for variants in variant_sets:\n",
        "            rand_index = random.randint(0, len(variants) - 1)\n",
        "            chromosome.append(rand_index)\n",
        "        population.append(chromosome)\n",
        "    return population\n",
        "\n",
        "def compute_fitness(chromosome, original_text):\n",
        "    replaced_count = sum(1 for gene in chromosome if gene != 0)\n",
        "    return replaced_count\n",
        "\n",
        "def roulette_wheel_selection(population, fitnesses):\n",
        "    total_fitness = sum(fitnesses)\n",
        "    if total_fitness == 0:\n",
        "        return random.choice(population)\n",
        "\n",
        "    pick = random.uniform(0, total_fitness)\n",
        "    running_sum = 0.0\n",
        "    for ind, fit in zip(population, fitnesses):\n",
        "        running_sum += fit\n",
        "        if running_sum >= pick:\n",
        "            return ind\n",
        "    return population[-1]\n",
        "\n",
        "def single_point_crossover(parent1, parent2):\n",
        "    if len(parent1) <= 1:\n",
        "        return parent1[:], parent2[:]\n",
        "\n",
        "    point = random.randint(1, len(parent1) - 1)\n",
        "    child1 = parent1[:point] + parent2[point:]\n",
        "    child2 = parent2[:point] + parent1[point:]\n",
        "    return child1, child2\n",
        "\n",
        "def mutate(chromosome, original_text, mutation_rate):\n",
        "    for i in range(len(chromosome)):\n",
        "        if random.random() < mutation_rate:\n",
        "            variants = get_variants(original_text[i])\n",
        "            chromosome[i] = random.randint(0, len(variants) - 1)\n",
        "    return chromosome\n",
        "\n",
        "\n",
        "def obfuscate_text_ga(original_text,\n",
        "                      pop_size=10,\n",
        "                      generations=10,\n",
        "                      crossover_rate=0.7,\n",
        "                      mutation_rate=0.05):\n",
        "    # Initialize population\n",
        "    population = initialize_population(original_text, pop_size)\n",
        "\n",
        "    best_individual = None\n",
        "    best_fitness = float('-inf')\n",
        "\n",
        "    for gen in range(generations):\n",
        "        # Evaluate fitness\n",
        "        fitnesses = [compute_fitness(ind, original_text) for ind in population]\n",
        "\n",
        "        # Track best\n",
        "        for ind, fit in zip(population, fitnesses):\n",
        "            if fit > best_fitness:\n",
        "                best_fitness = fit\n",
        "                best_individual = ind[:]\n",
        "\n",
        "        print(f\"Generation {gen} | Best fitness so far: {best_fitness}\")\n",
        "\n",
        "        # Create new population\n",
        "        new_population = []\n",
        "        while len(new_population) < pop_size:\n",
        "\n",
        "            parent1 = roulette_wheel_selection(population, fitnesses)\n",
        "            parent2 = roulette_wheel_selection(population, fitnesses)\n",
        "\n",
        "            if random.random() < crossover_rate:\n",
        "                child1, child2 = single_point_crossover(parent1, parent2)\n",
        "            else:\n",
        "                child1, child2 = parent1[:], parent2[:]\n",
        "\n",
        "            child1 = mutate(child1, original_text, mutation_rate)\n",
        "            child2 = mutate(child2, original_text, mutation_rate)\n",
        "\n",
        "            new_population.append(child1)\n",
        "            if len(new_population) < pop_size:\n",
        "                new_population.append(child2)\n",
        "\n",
        "        population = new_population\n",
        "\n",
        "    fitnesses = [compute_fitness(ind, original_text) for ind in population]\n",
        "    for ind, fit in zip(population, fitnesses):\n",
        "        if fit > best_fitness:\n",
        "            best_fitness = fit\n",
        "            best_individual = ind[:]\n",
        "\n",
        "    return decode_chromosome(best_individual, original_text)\n",
        "\n",
        "\n",
        "def decode_chromosome(chromosome, original_text):\n",
        "\n",
        "    result_chars = []\n",
        "    for i, gene in enumerate(chromosome):\n",
        "        variants = get_variants(original_text[i])\n",
        "        result_chars.append(variants[gene])\n",
        "    return \"\".join(result_chars)"
      ]
    },
    {
      "cell_type": "code",
      "execution_count": null,
      "metadata": {
        "colab": {
          "base_uri": "https://localhost:8080/"
        },
        "id": "6iBzCXRi_sTK",
        "outputId": "755d3cfd-c9bc-414e-91ed-b70d8ef6c030"
      },
      "outputs": [
        {
          "name": "stdout",
          "output_type": "stream",
          "text": [
            "Generation 0 | Best fitness so far: 7\n",
            "Generation 1 | Best fitness so far: 7\n",
            "Generation 2 | Best fitness so far: 7\n",
            "Generation 3 | Best fitness so far: 7\n",
            "Generation 4 | Best fitness so far: 7\n",
            "Generation 5 | Best fitness so far: 7\n",
            "Generation 6 | Best fitness so far: 7\n",
            "Generation 7 | Best fitness so far: 7\n",
            "Generation 8 | Best fitness so far: 7\n",
            "Generation 9 | Best fitness so far: 7\n",
            "\n",
            "Original text:    HELLO GA\n",
            "Best obfuscation: ʰεⱠⱠΦ ɢ∆\n"
          ]
        }
      ],
      "source": [
        "random.seed(time.time())\n",
        "\n",
        "text_to_obfuscate = \"HELLO GA\"\n",
        "\n",
        "POP_SIZE = 10\n",
        "GENERATIONS = 10\n",
        "CROSSOVER_RATE = 0.7\n",
        "MUTATION_RATE = 0.1\n",
        "\n",
        "best_obfuscation = obfuscate_text_ga(text_to_obfuscate,\n",
        "                                         pop_size=POP_SIZE,\n",
        "                                         generations=GENERATIONS,\n",
        "                                         crossover_rate=CROSSOVER_RATE,\n",
        "                                         mutation_rate=MUTATION_RATE)\n",
        "\n",
        "print(\"\\nOriginal text:   \", text_to_obfuscate)\n",
        "print(\"Best obfuscation:\", best_obfuscation)"
      ]
    },
    {
      "cell_type": "code",
      "execution_count": 32,
      "metadata": {
        "colab": {
          "base_uri": "https://localhost:8080/"
        },
        "id": "sW1LVXr3_-bA",
        "outputId": "a754bb08-b4e6-4a53-ca19-3b29e5828167"
      },
      "outputs": [
        {
          "name": "stdout",
          "output_type": "stream",
          "text": [
            "ʰεⱠⱠΦ ɢ∆\n"
          ]
        }
      ],
      "source": [
        "print(best_obfuscation)"
      ]
    },
    {
      "cell_type": "code",
      "execution_count": null,
      "metadata": {
        "id": "HPUTyLuZAFZ3"
      },
      "outputs": [],
      "source": []
    }
  ],
  "metadata": {
    "colab": {
      "provenance": []
    },
    "kernelspec": {
      "display_name": "Python 3",
      "name": "python3"
    },
    "language_info": {
      "name": "python"
    }
  },
  "nbformat": 4,
  "nbformat_minor": 0
}
