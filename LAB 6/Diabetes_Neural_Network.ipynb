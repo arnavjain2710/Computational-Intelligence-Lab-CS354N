{
 "cells": [
  {
   "cell_type": "markdown",
   "metadata": {},
   "source": [
    "### Defining the Model Architecture and BackPropagation Method"
   ]
  },
  {
   "cell_type": "code",
   "execution_count": 1,
   "metadata": {},
   "outputs": [],
   "source": [
    "import pandas as pd\n",
    "import numpy as np"
   ]
  },
  {
   "cell_type": "code",
   "execution_count": 2,
   "metadata": {},
   "outputs": [],
   "source": [
    "e = 1e1\n",
    "\n",
    "# Activation Function\n",
    "def sigmoid(x, grad = True):\n",
    "    value = 1/(1 + np.exp(-1*x)) \n",
    "    if grad:\n",
    "        # For Backpropagation\n",
    "        grad = value*(1-value)\n",
    "        return value, grad \n",
    "    return value\n",
    "\n",
    "class Perceptron:\n",
    "    def __init__(self, input_shape, output_shape, activation = sigmoid):\n",
    "        self.weight = np.random.normal(size=(input_shape, output_shape)) # Random Initialization of Weights\n",
    "        self.activation = activation\n",
    "    \n",
    "    def __call__(self, inp, grad):\n",
    "        output = self.weight.T @ inp # Forward Pass\n",
    "        if grad:\n",
    "            output, grad = self.activation(output, grad) \n",
    "            return output, grad\n",
    "        output = self.activation(output, grad) # Activation\n",
    "        return output\n",
    "\n",
    "\n",
    "class DiabetesClassifier:\n",
    "    def __init__(self, input_shape, output_shape, num_hidden_layers, num_hidden_neurons):\n",
    "        assert num_hidden_layers > 0, \"There should be at least one hidden layer\" # As required by the assignment\n",
    "        \n",
    "        if type(num_hidden_neurons) != list:\n",
    "            num_hidden_neurons = [num_hidden_neurons] * num_hidden_layers\n",
    "            \n",
    "        assert num_hidden_layers == len(num_hidden_neurons), \"The Number of Hidden Neurons should be in Number of Hidden Layers\" # Required for forward pass\n",
    "    \n",
    "        # Making the Feed Forward Neural Network\n",
    "        self.layers = [Perceptron(input_shape, num_hidden_neurons[0])] # First Layer\n",
    "        for i in range(num_hidden_layers-1):\n",
    "            self.layers.append(Perceptron(num_hidden_neurons[i], num_hidden_neurons[i+1])) # Hidden Layers\n",
    "        self.layers.append(Perceptron(num_hidden_neurons[-1], output_shape)) # Output Layer\n",
    "        self.grad = True\n",
    "    \n",
    "    # Entire Forward Pass\n",
    "    def __call__(self, input):\n",
    "        self.inputs = [input]\n",
    "        self.gradients = []\n",
    "        output, grad = self.layers[0](input, self.grad) # First Layer Forward Pass\n",
    "        self.gradients.append(grad)\n",
    "        for layer in self.layers[1:]:\n",
    "            self.inputs.append(output)\n",
    "            output, grad = layer(output, self.grad) # Passing the output of the previous layer to the next layer\n",
    "            self.gradients.append(grad)\n",
    "        return output\n",
    "    \n",
    "    # Backpropagation\n",
    "    def update_weights(self, grad_loss):\n",
    "        grad = self.gradients[-1] * grad_loss\n",
    "        self.layers[-1].weight -= grad * np.expand_dims(self.inputs[-1], axis=-1)\n",
    "        for i in range(len(self.layers)-1)[::-1]:\n",
    "            grad = np.expand_dims(self.gradients[i], axis=-1) * self.layers[i+1].weight @ grad            \n",
    "            self.layers[i].weight -= self.lr * np.expand_dims(self.inputs[i], axis=-1) @ np.expand_dims(grad, axis=-1).T \n",
    "\n",
    "    def train(self, X_train, y_train, X_test, y_test, learning_rate, n_epochs, logging_epochs = 10, validation_epochs = 100):\n",
    "        validation_epochs = min(validation_epochs, n_epochs)\n",
    "        self.lr = learning_rate\n",
    "        for current_epoch in range(0, n_epochs + 1):\n",
    "            total_loss = 0\n",
    "            train_accuracy = 0\n",
    "            for x, y in zip(X_train, y_train):\n",
    "                pred = self(x) # Forward Pass\n",
    "                loss, grad_loss = MSELoss(pred, y) # Loss Calculation\n",
    "                total_loss += loss\n",
    "                train_accuracy += (y == (pred>=0.5))\n",
    "                self.update_weights(grad_loss) # Backpropagation\n",
    "            if current_epoch % logging_epochs == 0:\n",
    "                print(\"\\nEpoch: \", current_epoch)\n",
    "                print(\"Loss: \", total_loss/len(X_train))\n",
    "                print(\"Train Accuracy: \", train_accuracy/len(X_train))\n",
    "            \n",
    "            # Validation\n",
    "            if current_epoch % validation_epochs == 0:\n",
    "                val_loss = 0\n",
    "                val_accuracy = 0\n",
    "                for x, y in zip(X_test, y_test):\n",
    "                    pred = self(x)\n",
    "                    loss, _ = MSELoss(pred, y)\n",
    "                    val_loss += loss/len(X_test)\n",
    "                    val_accuracy += (y == (pred>=0.5))\n",
    "                print(\"Validation Loss: \", total_loss/len(X_test))\n",
    "                print(\"Validation Accuracy: \", val_accuracy/len(X_test))\n",
    "                \n",
    "        print(\"\\nTraining Finished!\")\n",
    "        print(\"Epoch: \", current_epoch)\n",
    "        print(\"Loss: \", total_loss/len(X_train))\n",
    "        print(\"Train Accuracy: \", train_accuracy/len(X_train))\n",
    "        \n",
    "        # Final Validation\n",
    "        val_loss = 0\n",
    "        val_accuracy = 0\n",
    "        for x, y in zip(X_test, y_test):\n",
    "            pred = self(x)\n",
    "            loss, _ = MSELoss(pred, y)\n",
    "            val_loss += loss/len(X_test)\n",
    "            val_accuracy += (y == (pred>=0.5))\n",
    "        print(\"Validation Loss: \", total_loss/len(X_test))\n",
    "        print(\"Validation Accuracy: \", val_accuracy/len(X_test))\n",
    "\n",
    "# Loss Function\n",
    "def MSELoss(prediction, truth):\n",
    "    loss = 0.5 * (prediction - truth) ** 2\n",
    "    grad = prediction - truth\n",
    "    return loss, grad"
   ]
  },
  {
   "cell_type": "markdown",
   "metadata": {},
   "source": [
    "# Training the Model on Iris Dataset"
   ]
  },
  {
   "cell_type": "code",
   "execution_count": 4,
   "metadata": {},
   "outputs": [
    {
     "name": "stdout",
     "output_type": "stream",
     "text": [
      "Index(['Pregnancies', 'Glucose', 'BloodPressure', 'SkinThickness', 'Insulin',\n",
      "       'BMI', 'DiabetesPedigreeFunction', 'Age', 'Outcome'],\n",
      "      dtype='object')\n",
      "Index(['Pregnancies', 'Glucose', 'BloodPressure', 'SkinThickness', 'Insulin',\n",
      "       'BMI', 'DiabetesPedigreeFunction', 'Age', 'Outcome'],\n",
      "      dtype='object')\n"
     ]
    }
   ],
   "source": [
    "train_data = pd.read_csv(\"diabetes_train.csv\")\n",
    "print(train_data.columns)\n",
    "\n",
    "test_data = pd.read_excel(\"diabetes_test.xlsx\")\n",
    "print(test_data.columns)"
   ]
  },
  {
   "cell_type": "code",
   "execution_count": 5,
   "metadata": {},
   "outputs": [
    {
     "name": "stdout",
     "output_type": "stream",
     "text": [
      "   Pregnancies  Glucose  BloodPressure  SkinThickness  Insulin   BMI  \\\n",
      "0          6.0    148.0           72.0           35.0      0.0  33.6   \n",
      "1          1.0     85.0           66.0           29.0      0.0  26.6   \n",
      "2          8.0    183.0           64.0            0.0      0.0  23.3   \n",
      "3          1.0     89.0           66.0           23.0     94.0  28.1   \n",
      "4          0.0    137.0           40.0           35.0    168.0  43.1   \n",
      "\n",
      "   DiabetesPedigreeFunction   Age  Outcome  \n",
      "0                     0.627  50.0      1.0  \n",
      "1                     0.351  31.0      0.0  \n",
      "2                     0.672  32.0      1.0  \n",
      "3                     0.167  21.0      0.0  \n",
      "4                     2.288  33.0      1.0  \n",
      "     Pregnancies  Glucose  BloodPressure  SkinThickness  Insulin   BMI  \\\n",
      "762          9.0     89.0           62.0            0.0      0.0  22.5   \n",
      "763         10.0    101.0           76.0           48.0    180.0  32.9   \n",
      "764          2.0    122.0           70.0           27.0      0.0  36.8   \n",
      "765          5.0    121.0           72.0           23.0    112.0  26.2   \n",
      "766          1.0    126.0           60.0            0.0      0.0  30.1   \n",
      "\n",
      "     DiabetesPedigreeFunction   Age  Outcome  \n",
      "762                     0.142  33.0      0.0  \n",
      "763                     0.171  63.0      0.0  \n",
      "764                     0.340  27.0      0.0  \n",
      "765                     0.245  30.0      0.0  \n",
      "766                     0.349  47.0      1.0  \n",
      "   Pregnancies  Glucose  BloodPressure  SkinThickness  Insulin   BMI  \\\n",
      "0            5      158             84             41      210  39.4   \n",
      "1            1      105             58              0        0  24.3   \n",
      "2            3      107             62             13       48  22.9   \n",
      "3            4      109             64             44       99  34.8   \n",
      "4            4      148             60             27      318  30.9   \n",
      "\n",
      "   DiabetesPedigreeFunction  Age  Outcome  \n",
      "0                     0.395   29        1  \n",
      "1                     0.187   21        0  \n",
      "2                     0.678   23        1  \n",
      "3                     0.905   26        1  \n",
      "4                     0.150   29        1  \n",
      "    Pregnancies  Glucose  BloodPressure  SkinThickness  Insulin   BMI  \\\n",
      "45            1       91             64             24        0  29.2   \n",
      "46            4       91             70             32       88  33.1   \n",
      "47            3      139             54              0        0  25.6   \n",
      "48            6      119             50             22      176  27.1   \n",
      "49            1       93             70             31        0  30.4   \n",
      "\n",
      "    DiabetesPedigreeFunction  Age  Outcome  \n",
      "45                     0.192   21        0  \n",
      "46                     0.446   22        0  \n",
      "47                     0.402   22        1  \n",
      "48                     1.318   33        1  \n",
      "49                     0.315   23        0  \n"
     ]
    }
   ],
   "source": [
    "print(train_data.head())\n",
    "print(train_data.tail())\n",
    "\n",
    "print(test_data.head())\n",
    "print(test_data.tail())"
   ]
  },
  {
   "cell_type": "code",
   "execution_count": 7,
   "metadata": {},
   "outputs": [
    {
     "name": "stdout",
     "output_type": "stream",
     "text": [
      "[ 1.  0. nan]\n",
      "[1 0]\n"
     ]
    }
   ],
   "source": [
    "print(train_data.Outcome.unique())\n",
    "print(test_data.Outcome.unique())"
   ]
  },
  {
   "cell_type": "code",
   "execution_count": 8,
   "metadata": {},
   "outputs": [
    {
     "name": "stdout",
     "output_type": "stream",
     "text": [
      "767\n",
      "50\n"
     ]
    }
   ],
   "source": [
    "print(len(train_data))\n",
    "print(len(test_data))"
   ]
  },
  {
   "cell_type": "code",
   "execution_count": null,
   "metadata": {},
   "outputs": [],
   "source": [
    "# dropping NA fields as train data have them\n",
    "train_data = train_data.dropna()\n",
    "test_data = test_data.dropna()"
   ]
  },
  {
   "cell_type": "code",
   "execution_count": 10,
   "metadata": {},
   "outputs": [
    {
     "name": "stdout",
     "output_type": "stream",
     "text": [
      "718\n",
      "50\n"
     ]
    }
   ],
   "source": [
    "print(len(train_data))\n",
    "print(len(test_data))"
   ]
  },
  {
   "cell_type": "code",
   "execution_count": 11,
   "metadata": {},
   "outputs": [],
   "source": [
    "# Shuffle the Dataset\n",
    "train_data = train_data.sample(frac = 1)"
   ]
  },
  {
   "cell_type": "code",
   "execution_count": 12,
   "metadata": {},
   "outputs": [
    {
     "name": "stdout",
     "output_type": "stream",
     "text": [
      "     Pregnancies  Glucose  BloodPressure  SkinThickness  Insulin   BMI  \\\n",
      "526          1.0     97.0           64.0           19.0     82.0  18.2   \n",
      "340          1.0    130.0           70.0           13.0    105.0  25.9   \n",
      "732          2.0    174.0           88.0           37.0    120.0  44.5   \n",
      "402          5.0    136.0           84.0           41.0     88.0  35.0   \n",
      "412          1.0    143.0           84.0           23.0    310.0  42.4   \n",
      "\n",
      "     DiabetesPedigreeFunction   Age  Outcome  \n",
      "526                     0.299  21.0      0.0  \n",
      "340                     0.472  22.0      0.0  \n",
      "732                     0.646  24.0      1.0  \n",
      "402                     0.286  35.0      1.0  \n",
      "412                     1.076  22.0      0.0  \n",
      "     Pregnancies  Glucose  BloodPressure  SkinThickness  Insulin   BMI  \\\n",
      "688          1.0    140.0           74.0           26.0    180.0  24.1   \n",
      "631          0.0    102.0           78.0           40.0     90.0  34.5   \n",
      "756          7.0    137.0           90.0           41.0      0.0  32.0   \n",
      "35           4.0    103.0           60.0           33.0    192.0  24.0   \n",
      "336          0.0    117.0            0.0            0.0      0.0  33.8   \n",
      "\n",
      "     DiabetesPedigreeFunction   Age  Outcome  \n",
      "688                     0.828  23.0      0.0  \n",
      "631                     0.238  24.0      0.0  \n",
      "756                     0.391  39.0      0.0  \n",
      "35                      0.966  33.0      0.0  \n",
      "336                     0.932  44.0      0.0  \n"
     ]
    }
   ],
   "source": [
    "print(train_data.head())\n",
    "print(train_data.tail())"
   ]
  },
  {
   "cell_type": "code",
   "execution_count": 13,
   "metadata": {},
   "outputs": [],
   "source": [
    "np_train_data = train_data.to_numpy()\n",
    "np_test_data = test_data.to_numpy()"
   ]
  },
  {
   "cell_type": "code",
   "execution_count": 14,
   "metadata": {},
   "outputs": [],
   "source": [
    "X_train, y_train = np_train_data[:,:-1], np_train_data[:,-1]\n",
    "X_test, y_test = np_test_data[:,:-1], np_test_data[:,-1]"
   ]
  },
  {
   "cell_type": "code",
   "execution_count": 18,
   "metadata": {},
   "outputs": [
    {
     "name": "stdout",
     "output_type": "stream",
     "text": [
      "(718, 9) (50, 9)\n",
      "(718, 8) (718,) (50, 8) (50,)\n"
     ]
    }
   ],
   "source": [
    "print(np_train_data.shape, np_test_data.shape)\n",
    "print(X_train.shape, y_train.shape, X_test.shape, y_test.shape)"
   ]
  },
  {
   "cell_type": "code",
   "execution_count": 19,
   "metadata": {},
   "outputs": [
    {
     "name": "stderr",
     "output_type": "stream",
     "text": [
      "/tmp/ipykernel_9327/1659400037.py:5: RuntimeWarning: overflow encountered in exp\n",
      "  value = 1/(1 + np.exp(-1*x))\n"
     ]
    },
    {
     "name": "stdout",
     "output_type": "stream",
     "text": [
      "\n",
      "Epoch:  0\n",
      "Loss:  [0.12353083]\n",
      "Train Accuracy:  [0.63509749]\n",
      "Validation Loss:  [1.77390278]\n",
      "Validation Accuracy:  [0.52]\n",
      "\n",
      "Epoch:  5\n",
      "Loss:  [0.12046696]\n",
      "Train Accuracy:  [0.63231198]\n",
      "\n",
      "Epoch:  10\n",
      "Loss:  [0.12022412]\n",
      "Train Accuracy:  [0.62952646]\n",
      "Validation Loss:  [1.72641837]\n",
      "Validation Accuracy:  [0.56]\n",
      "\n",
      "Epoch:  15\n",
      "Loss:  [0.1200828]\n",
      "Train Accuracy:  [0.6281337]\n",
      "\n",
      "Epoch:  20\n",
      "Loss:  [0.11997278]\n",
      "Train Accuracy:  [0.6281337]\n",
      "Validation Loss:  [1.72280912]\n",
      "Validation Accuracy:  [0.56]\n",
      "\n",
      "Epoch:  25\n",
      "Loss:  [0.11983622]\n",
      "Train Accuracy:  [0.63091922]\n",
      "\n",
      "Epoch:  30\n",
      "Loss:  [0.11957124]\n",
      "Train Accuracy:  [0.63509749]\n",
      "Validation Loss:  [1.71704308]\n",
      "Validation Accuracy:  [0.56]\n",
      "\n",
      "Training Finished!\n",
      "Epoch:  30\n",
      "Loss:  [0.11957124]\n",
      "Train Accuracy:  [0.63509749]\n",
      "Validation Loss:  [1.71704308]\n",
      "Validation Accuracy:  [0.56]\n"
     ]
    }
   ],
   "source": [
    "# IrisClassifier : input_shape, output_shape, num_hidden_layers, num_hidden_neurons\n",
    "model = DiabetesClassifier(8, 1, num_hidden_layers = 1, num_hidden_neurons = [10])\n",
    "# train method() : X_train, y_train, X_test, y_test, learning_rate, n_epochs, logging_epochs = 10, validation_epochs = 100\n",
    "model.train(X_train, y_train, X_test, y_test, 0.0001 , 30 , 5, 10)"
   ]
  },
  {
   "cell_type": "code",
   "execution_count": 22,
   "metadata": {},
   "outputs": [
    {
     "name": "stderr",
     "output_type": "stream",
     "text": [
      "/tmp/ipykernel_9327/1659400037.py:5: RuntimeWarning: overflow encountered in exp\n",
      "  value = 1/(1 + np.exp(-1*x))\n"
     ]
    },
    {
     "name": "stdout",
     "output_type": "stream",
     "text": [
      "\n",
      "Epoch:  0\n",
      "Loss:  [0.11800861]\n",
      "Train Accuracy:  [0.62952646]\n",
      "Validation Loss:  [1.69460366]\n",
      "Validation Accuracy:  [0.52]\n",
      "\n",
      "Epoch:  5\n",
      "Loss:  [0.11379048]\n",
      "Train Accuracy:  [0.64763231]\n",
      "\n",
      "Epoch:  10\n",
      "Loss:  [0.11288279]\n",
      "Train Accuracy:  [0.64345404]\n",
      "Validation Loss:  [1.62099693]\n",
      "Validation Accuracy:  [0.52]\n",
      "\n",
      "Epoch:  15\n",
      "Loss:  [0.11223748]\n",
      "Train Accuracy:  [0.6448468]\n",
      "\n",
      "Epoch:  20\n",
      "Loss:  [0.11165935]\n",
      "Train Accuracy:  [0.65320334]\n",
      "Validation Loss:  [1.60342821]\n",
      "Validation Accuracy:  [0.52]\n",
      "\n",
      "Epoch:  25\n",
      "Loss:  [0.11115554]\n",
      "Train Accuracy:  [0.65877437]\n",
      "\n",
      "Epoch:  30\n",
      "Loss:  [0.11071066]\n",
      "Train Accuracy:  [0.66295265]\n",
      "Validation Loss:  [1.58980514]\n",
      "Validation Accuracy:  [0.52]\n",
      "\n",
      "Training Finished!\n",
      "Epoch:  30\n",
      "Loss:  [0.11071066]\n",
      "Train Accuracy:  [0.66295265]\n",
      "Validation Loss:  [1.58980514]\n",
      "Validation Accuracy:  [0.52]\n"
     ]
    }
   ],
   "source": [
    "# IrisClassifier : input_shape, output_shape, num_hidden_layers, num_hidden_neurons\n",
    "model = DiabetesClassifier(8, 1, num_hidden_layers = 3, num_hidden_neurons = [15 , 10 , 5])\n",
    "# train method() : X_train, y_train, X_test, y_test, learning_rate, n_epochs, logging_epochs = 10, validation_epochs = 100\n",
    "model.train(X_train, y_train, X_test, y_test, 0.0001 , 30 , 5, 10)"
   ]
  },
  {
   "cell_type": "code",
   "execution_count": null,
   "metadata": {},
   "outputs": [],
   "source": []
  }
 ],
 "metadata": {
  "kernelspec": {
   "display_name": "Python 3",
   "language": "python",
   "name": "python3"
  },
  "language_info": {
   "codemirror_mode": {
    "name": "ipython",
    "version": 3
   },
   "file_extension": ".py",
   "mimetype": "text/x-python",
   "name": "python",
   "nbconvert_exporter": "python",
   "pygments_lexer": "ipython3",
   "version": "3.12.3"
  }
 },
 "nbformat": 4,
 "nbformat_minor": 2
}
