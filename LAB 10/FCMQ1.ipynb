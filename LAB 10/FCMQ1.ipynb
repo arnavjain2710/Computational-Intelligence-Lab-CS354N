{
  "nbformat": 4,
  "nbformat_minor": 0,
  "metadata": {
    "colab": {
      "provenance": []
    },
    "kernelspec": {
      "name": "python3",
      "display_name": "Python 3"
    },
    "language_info": {
      "name": "python"
    }
  },
  "cells": [
    {
      "cell_type": "code",
      "execution_count": 1,
      "metadata": {
        "id": "k2f5v2Fb1p5Z"
      },
      "outputs": [],
      "source": [
        "import numpy as np\n",
        "import matplotlib.pyplot as plt"
      ]
    },
    {
      "cell_type": "code",
      "source": [
        "# Input data\n",
        "X = np.array([6, 5, 8, 4, 7, 9])\n",
        "Y = np.array([6, 5, 7, 3, 5, 2])\n",
        "data = np.column_stack((X, Y))\n",
        "\n",
        "data"
      ],
      "metadata": {
        "colab": {
          "base_uri": "https://localhost:8080/"
        },
        "id": "rqdYPFdy1voM",
        "outputId": "5bbeb33a-1904-4c06-f7da-8ff50d789ab7"
      },
      "execution_count": 2,
      "outputs": [
        {
          "output_type": "execute_result",
          "data": {
            "text/plain": [
              "array([[6, 6],\n",
              "       [5, 5],\n",
              "       [8, 7],\n",
              "       [4, 3],\n",
              "       [7, 5],\n",
              "       [9, 2]])"
            ]
          },
          "metadata": {},
          "execution_count": 2
        }
      ]
    },
    {
      "cell_type": "code",
      "source": [
        "# Parameters\n",
        "num_clusters = 2\n",
        "num_objects = len(data)\n",
        "m = 2\n",
        "max_iter = 100\n",
        "\n",
        "# membership matrix\n",
        "membership = np.array([\n",
        "    [0.8, 0.2],\n",
        "    [0.9, 0.1],\n",
        "    [0.7, 0.3],\n",
        "    [0.3, 0.7],\n",
        "    [0.5, 0.5],\n",
        "    [0.2, 0.8]\n",
        "])\n",
        "\n",
        "# calculate cluster centers\n",
        "def calculate_centers(data, membership, m):\n",
        "    centers = []\n",
        "    for j in range(num_clusters):\n",
        "        numerator = np.sum((membership[:, j] ** m).reshape(-1, 1) * data, axis=0)\n",
        "        denominator = np.sum(membership[:, j] ** m)\n",
        "        centers.append(numerator / denominator)\n",
        "    return np.array(centers)\n",
        "\n",
        "# update membership values\n",
        "def update_membership(data, centers, m):\n",
        "    new_membership = np.zeros((num_objects, num_clusters))\n",
        "    for i in range(num_objects):\n",
        "        for j in range(num_clusters):\n",
        "            dist = np.linalg.norm(data[i] - centers[j])\n",
        "            if dist == 0:\n",
        "                new_membership[i, j] = 1\n",
        "            else:\n",
        "                new_membership[i, j] = 1 / np.sum([(dist / np.linalg.norm(data[i] - centers[k])) ** (2 / (m - 1)) for k in range(num_clusters)])\n",
        "    return new_membership\n",
        "\n",
        "# Fuzzy C-Means algorithm\n",
        "for _ in range(max_iter):\n",
        "    centers = calculate_centers(data, membership, m)\n",
        "    new_membership = update_membership(data, centers, m)\n",
        "    if np.allclose(membership, new_membership):\n",
        "        break\n",
        "    membership = new_membership\n",
        "\n",
        "# Plotting\n",
        "plt.figure(figsize=(8, 6))\n",
        "for i in range(num_objects):\n",
        "    cluster = np.argmax(membership[i])  # Assign each object to the cluster with highest membership value\n",
        "    plt.scatter(data[i, 0], data[i, 1], color=['r', 'g'][cluster])\n",
        "plt.scatter(centers[:, 0], centers[:, 1], c='k', marker='*', s=200, label='Cluster Centers')\n",
        "plt.legend()\n",
        "plt.title('Fuzzy C-Means Clustering')\n",
        "plt.xlabel('X')\n",
        "plt.ylabel('Y')\n",
        "plt.show()\n",
        "\n",
        "\n",
        "print(\"Cluster Centers:\")\n",
        "print(centers)"
      ],
      "metadata": {
        "colab": {
          "base_uri": "https://localhost:8080/",
          "height": 616
        },
        "id": "CtHonZkI1yln",
        "outputId": "c0812212-9afe-4afc-a0a5-aab24878faab"
      },
      "execution_count": 3,
      "outputs": [
        {
          "output_type": "display_data",
          "data": {
            "text/plain": [
              "<Figure size 800x600 with 1 Axes>"
            ],
            "image/png": "[encoded data removed]"
          },
          "metadata": {}
        },
        {
          "output_type": "stream",
          "name": "stdout",
          "text": [
            "Cluster Centers:\n",
            "[[6.04797317 5.32575028]\n",
            " [8.463908   2.37186286]]\n"
          ]
        }
      ]
    },
    {
      "cell_type": "code",
      "source": [],
      "metadata": {
        "id": "V0Q4HW3l2VcW"
      },
      "execution_count": null,
      "outputs": []
    }
  ]
}